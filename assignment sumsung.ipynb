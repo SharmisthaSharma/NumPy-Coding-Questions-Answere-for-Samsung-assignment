{
 "cells": [
  {
   "cell_type": "code",
   "execution_count": 2,
   "metadata": {},
   "outputs": [
    {
     "name": "stdout",
     "output_type": "stream",
     "text": [
      "#1\n",
      " [[ 1  2  3  4  5]\n",
      " [ 6  7  8  9 10]\n",
      " [11 12 13 14 15]\n",
      " [16 17 18 19 20]\n",
      " [21 22 23 24 25]]\n"
     ]
    }
   ],
   "source": [
    "# 1. Create a 5×5 matrix with values 1,2,3,…,25\n",
    "import numpy as np\n",
    "matrix_5x5 = np.arange(1, 26).reshape(5, 5)\n",
    "print(\"#1\\n\", matrix_5x5)"
   ]
  },
  {
   "cell_type": "code",
   "execution_count": 3,
   "metadata": {},
   "outputs": [
    {
     "name": "stdout",
     "output_type": "stream",
     "text": [
      "#2\n",
      " [[1. 0. 0. 0.]\n",
      " [0. 1. 0. 0.]\n",
      " [0. 0. 1. 0.]\n",
      " [0. 0. 0. 1.]]\n"
     ]
    }
   ],
   "source": [
    "# 2. Generate a 4×4 identity matrix using NumPy.\n",
    "identity_4x4 = np.eye(4)\n",
    "print(\"#2\\n\", identity_4x4)\n",
    "\n"
   ]
  },
  {
   "cell_type": "code",
   "execution_count": 4,
   "metadata": {},
   "outputs": [
    {
     "name": "stdout",
     "output_type": "stream",
     "text": [
      "#3\n",
      " [100 110 120 130 140 150 160 170 180 190 200]\n"
     ]
    }
   ],
   "source": [
    "# 3. Create a 1D array of numbers from 100 to 200 with step size 10.\n",
    "array_100_200 = np.arange(100, 201, 10)\n",
    "print(\"#3\\n\", array_100_200)\n"
   ]
  },
  {
   "cell_type": "code",
   "execution_count": 5,
   "metadata": {},
   "outputs": [
    {
     "name": "stdout",
     "output_type": "stream",
     "text": [
      "#4\n",
      "Matrix:\n",
      " [[0.55878286 0.52166927 0.85292213]\n",
      " [0.1531411  0.17063586 0.40670875]\n",
      " [0.40731009 0.11923588 0.05429477]] \n",
      "Determinant: 0.016454281418254384\n"
     ]
    }
   ],
   "source": [
    "# 4. Generate a random 3×3 matrix and find its determinant.\n",
    "rand_3x3 = np.random.rand(3,3)\n",
    "determinant = np.linalg.det(rand_3x3)\n",
    "print(\"#4\\nMatrix:\\n\", rand_3x3, \"\\nDeterminant:\", determinant)\n"
   ]
  },
  {
   "cell_type": "code",
   "execution_count": 6,
   "metadata": {},
   "outputs": [
    {
     "name": "stdout",
     "output_type": "stream",
     "text": [
      "#5\n",
      " [84 61 23 66 58 65  9 39 31 75]\n"
     ]
    }
   ],
   "source": [
    "# 5. Create a NumPy array of 10 random integers between 1 and 100.\n",
    "rand_ints_10 = np.random.randint(1, 101, size=10)\n",
    "print(\"#5\\n\", rand_ints_10)\n"
   ]
  },
  {
   "cell_type": "code",
   "execution_count": 7,
   "metadata": {},
   "outputs": [
    {
     "name": "stdout",
     "output_type": "stream",
     "text": [
      "#6\n",
      " [[ 0  1  2  3]\n",
      " [ 4  5  6  7]\n",
      " [ 8  9 10 11]]\n"
     ]
    }
   ],
   "source": [
    "# 6. Reshape a 1D array of size 12 into a 3×4 matrix.\n",
    "arr_1d_12 = np.arange(12)\n",
    "reshaped_3x4 = arr_1d_12.reshape(3, 4)\n",
    "print(\"#6\\n\", reshaped_3x4)\n"
   ]
  },
  {
   "cell_type": "code",
   "execution_count": 8,
   "metadata": {},
   "outputs": [
    {
     "name": "stdout",
     "output_type": "stream",
     "text": [
      "#7\n",
      "Matrix A:\n",
      " [[6 6 8]\n",
      " [1 5 9]\n",
      " [3 8 7]] \n",
      "Matrix B:\n",
      " [[7 9 4]\n",
      " [4 2 2]\n",
      " [3 1 4]] \n",
      "Multiplication:\n",
      " [[90 74 68]\n",
      " [54 28 50]\n",
      " [74 50 56]]\n"
     ]
    }
   ],
   "source": [
    "# 7. Create two 3×3 matrices and perform matrix multiplication.\n",
    "mat_a = np.random.randint(1, 10, (3, 3))\n",
    "mat_b = np.random.randint(1, 10, (3, 3))\n",
    "mat_mult = np.dot(mat_a, mat_b)\n",
    "print(\"#7\\nMatrix A:\\n\", mat_a, \"\\nMatrix B:\\n\", mat_b, \"\\nMultiplication:\\n\", mat_mult)"
   ]
  },
  {
   "cell_type": "code",
   "execution_count": 9,
   "metadata": {},
   "outputs": [
    {
     "name": "stdout",
     "output_type": "stream",
     "text": [
      "#8\n",
      "Eigenvalues: [5. 2.] \n",
      "Eigenvectors:\n",
      " [[ 0.89442719 -0.70710678]\n",
      " [ 0.4472136   0.70710678]]\n"
     ]
    }
   ],
   "source": [
    "# 8. Find eigenvalues and eigenvectors of a given 2×2 matrix.\n",
    "matrix_2x2 = np.array([[4, 2], [1, 3]])\n",
    "eigvals, eigvecs = np.linalg.eig(matrix_2x2)\n",
    "print(\"#8\\nEigenvalues:\", eigvals, \"\\nEigenvectors:\\n\", eigvecs)"
   ]
  },
  {
   "cell_type": "code",
   "execution_count": 10,
   "metadata": {},
   "outputs": [
    {
     "name": "stdout",
     "output_type": "stream",
     "text": [
      "#9\n",
      "Matrix:\n",
      " [[0.06527157 0.52767459 0.38132355 0.71927153 0.23825705]\n",
      " [0.29153092 0.61425577 0.44748336 0.80188457 0.67139539]\n",
      " [0.78268941 0.24890572 0.40838494 0.45678406 0.75136648]\n",
      " [0.44382205 0.94342049 0.79255006 0.02443149 0.58188033]\n",
      " [0.39635661 0.92303018 0.56619435 0.45597036 0.73352617]] \n",
      "Diagonal: [0.06527157 0.61425577 0.40838494 0.02443149 0.73352617]\n"
     ]
    }
   ],
   "source": [
    "# 9. Create a 5×5 matrix with random values and extract its diagonal elements.\n",
    "rand_5x5 = np.random.rand(5, 5)\n",
    "diag_elements = np.diag(rand_5x5)\n",
    "print(\"#9\\nMatrix:\\n\", rand_5x5, \"\\nDiagonal:\", diag_elements)\n"
   ]
  },
  {
   "cell_type": "code",
   "execution_count": 11,
   "metadata": {},
   "outputs": [
    {
     "name": "stdout",
     "output_type": "stream",
     "text": [
      "#10\n",
      "Original: [59 14 16 19 43 52 35 34  3 39] \n",
      "Normalized: [1.         0.19642857 0.23214286 0.28571429 0.71428571 0.875\n",
      " 0.57142857 0.55357143 0.         0.64285714]\n"
     ]
    }
   ],
   "source": [
    "# 10. Generate a 1D array and normalize it (scale values between 0 and 1).\n",
    "arr = np.random.randint(1, 100, 10)\n",
    "normalized_arr = (arr - arr.min()) / (arr.max() - arr.min())\n",
    "print(\"#10\\nOriginal:\", arr, \"\\nNormalized:\", normalized_arr)"
   ]
  },
  {
   "cell_type": "code",
   "execution_count": 12,
   "metadata": {},
   "outputs": [
    {
     "name": "stdout",
     "output_type": "stream",
     "text": [
      "#11\n",
      "Original:\n",
      " [[3 2 1]\n",
      " [6 5 4]] \n",
      "Sorted by rows:\n",
      " [[1 2 3]\n",
      " [4 5 6]] \n",
      "Sorted by columns:\n",
      " [[3 2 1]\n",
      " [6 5 4]]\n"
     ]
    }
   ],
   "source": [
    "# 11. Sort a NumPy array by row and column.\n",
    "unsorted = np.array([[3, 2, 1], [6, 5, 4]])\n",
    "sorted_rows = np.sort(unsorted, axis=1)\n",
    "sorted_cols = np.sort(unsorted, axis=0)\n",
    "print(\"#11\\nOriginal:\\n\", unsorted, \"\\nSorted by rows:\\n\", sorted_rows, \"\\nSorted by columns:\\n\", sorted_cols)\n"
   ]
  },
  {
   "cell_type": "code",
   "execution_count": 13,
   "metadata": {},
   "outputs": [
    {
     "name": "stdout",
     "output_type": "stream",
     "text": [
      "#12\n",
      "Array: [5 3 9 1 7] \n",
      "Max index: 2 \n",
      "Min index: 3\n"
     ]
    }
   ],
   "source": [
    "# 12. Find the indices of maximum and minimum values in a NumPy array.\n",
    "arr_12 = np.array([5, 3, 9, 1, 7])\n",
    "max_index = np.argmax(arr_12)\n",
    "min_index = np.argmin(arr_12)\n",
    "print(\"#12\\nArray:\", arr_12, \"\\nMax index:\", max_index, \"\\nMin index:\", min_index)\n"
   ]
  },
  {
   "cell_type": "code",
   "execution_count": 14,
   "metadata": {},
   "outputs": [
    {
     "name": "stdout",
     "output_type": "stream",
     "text": [
      "#13\n",
      "Original:\n",
      " [[1 2]\n",
      " [3 4]] \n",
      "ravel(): [1 2 3 4] \n",
      "flatten(): [1 2 3 4]\n"
     ]
    }
   ],
   "source": [
    "# 13. Create a 2D array and flatten it using ravel() and flatten().\n",
    "arr_2d = np.array([[1, 2], [3, 4]])\n",
    "flatten_ravel = arr_2d.ravel()\n",
    "flatten_flatten = arr_2d.flatten()\n",
    "print(\"#13\\nOriginal:\\n\", arr_2d, \"\\nravel():\", flatten_ravel, \"\\nflatten():\", flatten_flatten)"
   ]
  },
  {
   "cell_type": "code",
   "execution_count": 15,
   "metadata": {},
   "outputs": [
    {
     "name": "stdout",
     "output_type": "stream",
     "text": [
      "#14\n",
      "Matrix:\n",
      " [[1 2 3]\n",
      " [0 1 4]\n",
      " [5 6 0]] \n",
      "Inverse:\n",
      " [[-24.  18.   5.]\n",
      " [ 20. -15.  -4.]\n",
      " [ -5.   4.   1.]]\n"
     ]
    }
   ],
   "source": [
    "# 14. Create a 3×3 matrix and compute its inverse using NumPy.\n",
    "mat_3x3 = np.array([[1, 2, 3], [0, 1, 4], [5, 6, 0]])\n",
    "inverse_mat = np.linalg.inv(mat_3x3)\n",
    "print(\"#14\\nMatrix:\\n\", mat_3x3, \"\\nInverse:\\n\", inverse_mat)"
   ]
  },
  {
   "cell_type": "code",
   "execution_count": 16,
   "metadata": {},
   "outputs": [
    {
     "name": "stdout",
     "output_type": "stream",
     "text": [
      "#15\n",
      " [ 7  2 10  3  9  1  8  4  6  5]\n"
     ]
    }
   ],
   "source": [
    "# 15. Generate a random permutation of numbers 1 to 10.\n",
    "perm_1_to_10 = np.random.permutation(np.arange(1, 11))\n",
    "print(\"#15\\n\", perm_1_to_10)"
   ]
  },
  {
   "cell_type": "code",
   "execution_count": 17,
   "metadata": {},
   "outputs": [
    {
     "name": "stdout",
     "output_type": "stream",
     "text": [
      "#16\n",
      " [-1  1 -1  3 -1  5 -1  7 -1  9 -1 11 -1 13 -1 15 -1 17 -1 19 -1]\n"
     ]
    }
   ],
   "source": [
    "# 16. Create a NumPy array with values from 0 to 20 and replace all even numbers with -1.\n",
    "arr_0_20 = np.arange(21)\n",
    "arr_0_20[arr_0_20 % 2 == 0] = -1\n",
    "print(\"#16\\n\", arr_0_20)\n"
   ]
  },
  {
   "cell_type": "code",
   "execution_count": 18,
   "metadata": {},
   "outputs": [
    {
     "name": "stdout",
     "output_type": "stream",
     "text": [
      "#17\n",
      "Dot product: 32\n"
     ]
    }
   ],
   "source": [
    "# 17. Compute the dot product of two arrays.\n",
    "a17 = np.array([1, 2, 3])\n",
    "b17 = np.array([4, 5, 6])\n",
    "dot_product = np.dot(a17, b17)\n",
    "print(\"#17\\nDot product:\", dot_product)\n"
   ]
  },
  {
   "cell_type": "code",
   "execution_count": 19,
   "metadata": {},
   "outputs": [
    {
     "name": "stdout",
     "output_type": "stream",
     "text": [
      "#18\n",
      "Matrix:\n",
      " [[0.29104975 0.67642951 0.45593778 0.21645278 0.33693329]\n",
      " [0.86058418 0.87905087 0.06984555 0.14332068 0.17487285]\n",
      " [0.44683956 0.02103281 0.69715472 0.28254799 0.53553843]\n",
      " [0.08216805 0.10762536 0.08571213 0.97736234 0.73198328]\n",
      " [0.69505604 0.75430442 0.08550517 0.04867502 0.64816983]] \n",
      "Trace: 3.492787506551868\n"
     ]
    }
   ],
   "source": [
    "# 18. Generate a 5×5 random matrix and compute its trace.\n",
    "rand_5x5_18 = np.random.rand(5, 5)\n",
    "trace_val = np.trace(rand_5x5_18)\n",
    "print(\"#18\\nMatrix:\\n\", rand_5x5_18, \"\\nTrace:\", trace_val)"
   ]
  },
  {
   "cell_type": "code",
   "execution_count": 20,
   "metadata": {},
   "outputs": [
    {
     "name": "stdout",
     "output_type": "stream",
     "text": [
      "#19\n",
      " [array([0, 1, 2]), array([3, 4, 5]), array([6, 7, 8])]\n"
     ]
    }
   ],
   "source": [
    "# 19. Split a 1D array into 3 equal parts.\n",
    "arr_19 = np.arange(9)\n",
    "split_3 = np.array_split(arr_19, 3)\n",
    "print(\"#19\\n\", split_3)"
   ]
  },
  {
   "cell_type": "code",
   "execution_count": 21,
   "metadata": {},
   "outputs": [
    {
     "name": "stdout",
     "output_type": "stream",
     "text": [
      "#20\n",
      "Mean across axis 0:\n",
      " [[0.31821032 0.45704357 0.39667165]\n",
      " [0.29244982 0.57793879 0.62077455]\n",
      " [0.53764838 0.69492677 0.2335048 ]]\n"
     ]
    }
   ],
   "source": [
    "# 20. Create a 3D array of shape (3,3,3) and find its mean across axis=0.\n",
    "arr_3d = np.random.rand(3, 3, 3)\n",
    "mean_axis0 = np.mean(arr_3d, axis=0)\n",
    "print(\"#20\\nMean across axis 0:\\n\", mean_axis0)"
   ]
  },
  {
   "cell_type": "code",
   "execution_count": 22,
   "metadata": {},
   "outputs": [
    {
     "name": "stdout",
     "output_type": "stream",
     "text": [
      "#21\n",
      "Cumulative sum: [ 1  3  6 10]\n"
     ]
    }
   ],
   "source": [
    "# 21. Find the cumulative sum of a NumPy array.\n",
    "arr_21 = np.array([1, 2, 3, 4])\n",
    "cumsum_arr = np.cumsum(arr_21)\n",
    "print(\"#21\\nCumulative sum:\", cumsum_arr)\n"
   ]
  },
  {
   "cell_type": "code",
   "execution_count": 23,
   "metadata": {},
   "outputs": [
    {
     "name": "stdout",
     "output_type": "stream",
     "text": [
      "#22\n",
      "Matrix:\n",
      " [[6 3 2 7]\n",
      " [4 1 4 6]\n",
      " [6 3 6 6]\n",
      " [9 5 9 6]] \n",
      "Upper triangular:\n",
      " [[6 3 2 7]\n",
      " [0 1 4 6]\n",
      " [0 0 6 6]\n",
      " [0 0 0 6]]\n"
     ]
    }
   ],
   "source": [
    "# 22. Create a 4×4 matrix with random integers and extract its upper triangular matrix.\n",
    "rand_4x4 = np.random.randint(1, 10, (4, 4))\n",
    "upper_tri = np.triu(rand_4x4)\n",
    "print(\"#22\\nMatrix:\\n\", rand_4x4, \"\\nUpper triangular:\\n\", upper_tri)"
   ]
  },
  {
   "cell_type": "code",
   "execution_count": 24,
   "metadata": {},
   "outputs": [
    {
     "name": "stdout",
     "output_type": "stream",
     "text": [
      "#23\n",
      "Checkerboard:\n",
      " [[0 1 0 1 0 1]\n",
      " [1 0 1 0 1 0]\n",
      " [0 1 0 1 0 1]\n",
      " [1 0 1 0 1 0]\n",
      " [0 1 0 1 0 1]\n",
      " [1 0 1 0 1 0]]\n"
     ]
    }
   ],
   "source": [
    "# 23. Generate a 6×6 checkerboard pattern (0,1).\n",
    "checkerboard = np.indices((6,6)).sum(axis=0) % 2\n",
    "print(\"#23\\nCheckerboard:\\n\", checkerboard)"
   ]
  },
  {
   "cell_type": "code",
   "execution_count": 25,
   "metadata": {},
   "outputs": [
    {
     "name": "stdout",
     "output_type": "stream",
     "text": [
      "#24\n",
      "Original:\n",
      " [[22.47756739  5.18486331 53.29532989]\n",
      " [45.78677446 31.15747402 21.60616442]\n",
      " [51.49653398 73.63617834 95.08422393]] \n",
      "Square root:\n",
      " [[4.7410513  2.27702949 7.30036505]\n",
      " [6.76659253 5.58188803 4.64824315]\n",
      " [7.17610855 8.58115251 9.75111398]]\n"
     ]
    }
   ],
   "source": [
    "# 24. Generate a 3×3 random matrix and apply element-wise square root.\n",
    "rand_3x3_24 = np.random.rand(3, 3) * 100\n",
    "sqrt_matrix = np.sqrt(rand_3x3_24)\n",
    "print(\"#24\\nOriginal:\\n\", rand_3x3_24, \"\\nSquare root:\\n\", sqrt_matrix)"
   ]
  },
  {
   "cell_type": "code",
   "execution_count": 26,
   "metadata": {},
   "outputs": [
    {
     "name": "stdout",
     "output_type": "stream",
     "text": [
      "#25\n",
      "Original: [ 0  1  2  3  4  5  6  7  8  9 10 11 12 13 14 15 16 17 18 19] \n",
      "Reversed: [19 18 17 16 15 14 13 12 11 10  9  8  7  6  5  4  3  2  1  0]\n"
     ]
    }
   ],
   "source": [
    "# 25. Create a 1D array of 20 elements and reverse it without using Python slicing.\n",
    "arr_25 = np.arange(20)\n",
    "reversed_arr = np.flip(arr_25)\n",
    "print(\"#25\\nOriginal:\", arr_25, \"\\nReversed:\", reversed_arr)"
   ]
  },
  {
   "cell_type": "code",
   "execution_count": 27,
   "metadata": {},
   "outputs": [
    {
     "name": "stdout",
     "output_type": "stream",
     "text": [
      "#26\n",
      "Vertical merge:\n",
      " [[1 2]\n",
      " [3 4]\n",
      " [5 6]\n",
      " [7 8]] \n",
      "Horizontal merge:\n",
      " [[1 2 5 6]\n",
      " [3 4 7 8]]\n"
     ]
    }
   ],
   "source": [
    "# 26. Merge two NumPy arrays vertically and horizontally.\n",
    "a26 = np.array([[1, 2], [3, 4]])\n",
    "b26 = np.array([[5, 6], [7, 8]])\n",
    "vert_merge = np.vstack((a26, b26))\n",
    "horz_merge = np.hstack((a26, b26))\n",
    "print(\"#26\\nVertical merge:\\n\", vert_merge, \"\\nHorizontal merge:\\n\", horz_merge)"
   ]
  },
  {
   "cell_type": "code",
   "execution_count": 28,
   "metadata": {},
   "outputs": [
    {
     "name": "stdout",
     "output_type": "stream",
     "text": [
      "#27\n",
      "Row-wise sum: [ 6 15] \n",
      "Column-wise sum: [5 7 9]\n"
     ]
    }
   ],
   "source": [
    "# 27. Create a 2D NumPy array and compute row-wise and column-wise sum.\n",
    "arr_27 = np.array([[1, 2, 3], [4, 5, 6]])\n",
    "row_sum = np.sum(arr_27, axis=1)\n",
    "col_sum = np.sum(arr_27, axis=0)\n",
    "print(\"#27\\nRow-wise sum:\", row_sum, \"\\nColumn-wise sum:\", col_sum)"
   ]
  },
  {
   "cell_type": "code",
   "execution_count": 29,
   "metadata": {},
   "outputs": [
    {
     "name": "stdout",
     "output_type": "stream",
     "text": [
      "#28\n",
      " [[1.  2.  7.5]\n",
      " [4.  5.  6. ]\n",
      " [7.  8.  9. ]]\n"
     ]
    }
   ],
   "source": [
    "# 28. Replace NaN values in an array with the mean of that column.\n",
    "arr_28 = np.array([[1, 2, np.nan], [4, np.nan, 6], [7, 8, 9]])\n",
    "col_mean = np.nanmean(arr_28, axis=0)\n",
    "inds = np.where(np.isnan(arr_28))\n",
    "arr_28[inds] = np.take(col_mean, inds[1])\n",
    "print(\"#28\\n\", arr_28)"
   ]
  },
  {
   "cell_type": "code",
   "execution_count": 30,
   "metadata": {},
   "outputs": [
    {
     "name": "stdout",
     "output_type": "stream",
     "text": [
      "#29\n",
      "Cosine similarity: 0.9746318461970762\n"
     ]
    }
   ],
   "source": [
    "# 29. Generate two 1D arrays and compute cosine similarity using NumPy.\n",
    "a29 = np.array([1, 2, 3])\n",
    "b29 = np.array([4, 5, 6])\n",
    "cos_sim = np.dot(a29, b29) / (np.linalg.norm(a29) * np.linalg.norm(b29))\n",
    "print(\"#29\\nCosine similarity:\", cos_sim)"
   ]
  },
  {
   "cell_type": "code",
   "execution_count": 31,
   "metadata": {},
   "outputs": [
    {
     "name": "stdout",
     "output_type": "stream",
     "text": [
      "#30\n",
      "Original:\n",
      " [[ 0  1  2  3]\n",
      " [ 4  5  6  7]\n",
      " [ 8  9 10 11]\n",
      " [12 13 14 15]] \n",
      "Rotated 90 degrees:\n",
      " [[ 3  7 11 15]\n",
      " [ 2  6 10 14]\n",
      " [ 1  5  9 13]\n",
      " [ 0  4  8 12]]\n"
     ]
    }
   ],
   "source": [
    "# 30. Create a 4×4 array and rotate it by 90 degrees using NumPy.\n",
    "arr_30 = np.arange(16).reshape(4,4)\n",
    "rotated_90 = np.rot90(arr_30)\n",
    "print(\"#30\\nOriginal:\\n\", arr_30, \"\\nRotated 90 degrees:\\n\", rotated_90)"
   ]
  },
  {
   "cell_type": "code",
   "execution_count": 32,
   "metadata": {},
   "outputs": [
    {
     "name": "stdout",
     "output_type": "stream",
     "text": [
      "#31\n",
      " [('Alice', 25, 88.5) ('Bob', 22, 92. )]\n"
     ]
    }
   ],
   "source": [
    "# 31. Create a structured NumPy array with fields (name, age, marks).\n",
    "dtype = [('name', 'U10'), ('age', 'i4'), ('marks', 'f4')]\n",
    "values = [('Alice', 25, 88.5), ('Bob', 22, 92.0)]\n",
    "structured_arr = np.array(values, dtype=dtype)\n",
    "print(\"#31\\n\", structured_arr)\n"
   ]
  },
  {
   "cell_type": "code",
   "execution_count": 33,
   "metadata": {},
   "outputs": [
    {
     "name": "stdout",
     "output_type": "stream",
     "text": [
      "#32\n",
      "Matrix:\n",
      " [[0.6502888  0.06253419 0.39871001]\n",
      " [0.56758835 0.53114806 0.70200924]\n",
      " [0.84787857 0.95003399 0.95985743]] \n",
      "Rank: 3\n"
     ]
    }
   ],
   "source": [
    "# 32. Generate a random 3×3 matrix and compute its rank.\n",
    "rand_3x3_32 = np.random.rand(3,3)\n",
    "rank_32 = np.linalg.matrix_rank(rand_3x3_32)\n",
    "print(\"#32\\nMatrix:\\n\", rand_3x3_32, \"\\nRank:\", rank_32)"
   ]
  },
  {
   "cell_type": "code",
   "execution_count": 34,
   "metadata": {},
   "outputs": [
    {
     "name": "stdout",
     "output_type": "stream",
     "text": [
      "#33\n",
      "Normalized rows:\n",
      " [[0.57208982 0.55283183 0.55810379 0.17629662 0.15662014]\n",
      " [0.28552542 0.54318795 0.08000123 0.53171207 0.57819043]\n",
      " [0.64632138 0.33774756 0.46258888 0.07413583 0.49870901]\n",
      " [0.0224998  0.40939346 0.46052294 0.57204533 0.54090066]\n",
      " [0.85348257 0.34950864 0.18515523 0.10094929 0.32394136]]\n"
     ]
    }
   ],
   "source": [
    "# 33. Create a 5×5 random matrix and normalize each row to have unit length.\n",
    "rand_5x5_33 = np.random.rand(5,5)\n",
    "norms = np.linalg.norm(rand_5x5_33, axis=1, keepdims=True)\n",
    "normalized_rows = rand_5x5_33 / norms\n",
    "print(\"#33\\nNormalized rows:\\n\", normalized_rows)"
   ]
  },
  {
   "cell_type": "code",
   "execution_count": 35,
   "metadata": {},
   "outputs": [
    {
     "name": "stdout",
     "output_type": "stream",
     "text": [
      "#34\n",
      "Element-wise equality: [ True  True False]\n"
     ]
    }
   ],
   "source": [
    "\n",
    "# 34. Check whether two arrays are equal element-wise.\n",
    "arr_34_a = np.array([1, 2, 3])\n",
    "arr_34_b = np.array([1, 2, 4])\n",
    "equal_elements = np.equal(arr_34_a, arr_34_b)\n",
    "print(\"#34\\nElement-wise equality:\", equal_elements)"
   ]
  },
  {
   "cell_type": "code",
   "execution_count": 36,
   "metadata": {},
   "outputs": [
    {
     "name": "stdout",
     "output_type": "stream",
     "text": [
      "#35\n",
      "Histogram counts: [  5  20  71 178 260 271 126  55  12   2] \n",
      "Bin edges: [-3.40471283 -2.70012396 -1.99553509 -1.29094622 -0.58635735  0.11823152\n",
      "  0.82282039  1.52740926  2.23199813  2.936587    3.64117587]\n"
     ]
    }
   ],
   "source": [
    "# 35. Generate a random dataset of 1000 numbers and compute histogram.\n",
    "data_35 = np.random.randn(1000)\n",
    "hist, bin_edges = np.histogram(data_35, bins=10)\n",
    "print(\"#35\\nHistogram counts:\", hist, \"\\nBin edges:\", bin_edges)"
   ]
  },
  {
   "cell_type": "code",
   "execution_count": 37,
   "metadata": {},
   "outputs": [
    {
     "name": "stdout",
     "output_type": "stream",
     "text": [
      "#36\n",
      "Broadcasted sum:\n",
      " [[11 22 33]\n",
      " [14 25 36]]\n"
     ]
    }
   ],
   "source": [
    "# 36. Create a 2D array and apply broadcasting to add a 1D array.\n",
    "arr_36_2d = np.array([[1, 2, 3], [4, 5, 6]])\n",
    "arr_36_1d = np.array([10, 20, 30])\n",
    "broadcasted_sum = arr_36_2d + arr_36_1d\n",
    "print(\"#36\\nBroadcasted sum:\\n\", broadcasted_sum)"
   ]
  },
  {
   "cell_type": "code",
   "execution_count": 38,
   "metadata": {},
   "outputs": [
    {
     "name": "stdout",
     "output_type": "stream",
     "text": [
      "#37\n",
      "Unique values: [1 2 3] \n",
      "Counts: [1 2 3]\n"
     ]
    }
   ],
   "source": [
    "# 37. Find unique values and their counts in a NumPy array.\n",
    "arr_37 = np.array([1, 2, 2, 3, 3, 3])\n",
    "unique_vals, counts = np.unique(arr_37, return_counts=True)\n",
    "print(\"#37\\nUnique values:\", unique_vals, \"\\nCounts:\", counts)"
   ]
  },
  {
   "cell_type": "code",
   "execution_count": 39,
   "metadata": {},
   "outputs": [
    {
     "name": "stdout",
     "output_type": "stream",
     "text": [
      "#38\n",
      "Pearson correlation coefficient: -0.9999999999999999\n"
     ]
    }
   ],
   "source": [
    "\n",
    "# 38. Create two arrays and find Pearson correlation coefficient using NumPy.\n",
    "a38 = np.array([1, 2, 3, 4, 5])\n",
    "b38 = np.array([5, 4, 3, 2, 1])\n",
    "corr_coeff = np.corrcoef(a38, b38)[0, 1]\n",
    "print(\"#38\\nPearson correlation coefficient:\", corr_coeff)\n",
    "\n",
    "\n"
   ]
  },
  {
   "cell_type": "code",
   "execution_count": 40,
   "metadata": {},
   "outputs": [
    {
     "name": "stdout",
     "output_type": "stream",
     "text": [
      "#39\n",
      "Numerical gradient: [1.  1.5 2.5 3.5 4. ]\n"
     ]
    }
   ],
   "source": [
    "# 39. Compute numerical gradient of a 1D array.\n",
    "arr_39 = np.array([1, 2, 4, 7, 11])\n",
    "gradient = np.gradient(arr_39)\n",
    "print(\"#39\\nNumerical gradient:\", gradient)"
   ]
  },
  {
   "cell_type": "code",
   "execution_count": 41,
   "metadata": {},
   "outputs": [
    {
     "name": "stdout",
     "output_type": "stream",
     "text": [
      "#40\n",
      "U:\n",
      " [[-0.57759644  0.45453895 -0.67806835]\n",
      " [-0.71123116 -0.68790096  0.14471522]\n",
      " [-0.40066517  0.56585034  0.72061142]] \n",
      "Singular values: [1.65976078 0.54326842 0.15436614] \n",
      "Vt:\n",
      " [[-0.40035827 -0.37290612 -0.83705095]\n",
      " [ 0.54808761 -0.82949787  0.10739301]\n",
      " [ 0.73437949  0.41578157 -0.53648155]]\n"
     ]
    }
   ],
   "source": [
    "\n",
    "# 40. Generate a random 3×3 matrix and perform Singular Value Decomposition (SVD).\n",
    "rand_3x3_40 = np.random.rand(3,3)\n",
    "U, S, Vt = np.linalg.svd(rand_3x3_40)\n",
    "print(\"#40\\nU:\\n\", U, \"\\nSingular values:\", S, \"\\nVt:\\n\", Vt)"
   ]
  },
  {
   "cell_type": "code",
   "execution_count": null,
   "metadata": {},
   "outputs": [],
   "source": []
  }
 ],
 "metadata": {
  "kernelspec": {
   "display_name": "Python 3",
   "language": "python",
   "name": "python3"
  },
  "language_info": {
   "codemirror_mode": {
    "name": "ipython",
    "version": 3
   },
   "file_extension": ".py",
   "mimetype": "text/x-python",
   "name": "python",
   "nbconvert_exporter": "python",
   "pygments_lexer": "ipython3",
   "version": "3.7.4"
  }
 },
 "nbformat": 4,
 "nbformat_minor": 2
}
